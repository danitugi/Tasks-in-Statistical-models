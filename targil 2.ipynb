{
 "cells": [
  {
   "cell_type": "code",
   "execution_count": 1,
   "id": "0d9d5492-79dd-4489-96f5-8352cbbb2e70",
   "metadata": {},
   "outputs": [],
   "source": [
    "# מגישים: אוריאל כהנא 209087048 ודניאל טוגנדהפט 318465291"
   ]
  },
  {
   "cell_type": "code",
   "execution_count": 62,
   "id": "cc76e3d3-f328-4012-a619-1bb4fa72561c",
   "metadata": {
    "tags": []
   },
   "outputs": [],
   "source": [
    "import pandas as pd \n",
    "import numpy as np\n",
    "import statsmodels.api as sm\n",
    "import matplotlib.pyplot as plt\n",
    "import seaborn as ax\n",
    "import os\n",
    "import pickle as pkl\n",
    "from sklearn.metrics import confusion_matrix, ConfusionMatrixDisplay\n",
    "import math"
   ]
  },
  {
   "cell_type": "markdown",
   "id": "c6f965b3-7f65-43c3-a66d-b464aa10f810",
   "metadata": {},
   "source": [
    "# TARGIL 2 -LOGISTIC REGRESSION "
   ]
  },
  {
   "cell_type": "markdown",
   "id": "a6c8057d-6a54-44b3-bef9-f1b4a441347e",
   "metadata": {},
   "source": [
    "## Q1 T4_model_1"
   ]
  },
  {
   "cell_type": "markdown",
   "id": "0470ebbc-ee3e-4060-84b8-90778ea18d0f",
   "metadata": {},
   "source": [
    "<div dir=\"rtl\">בנו מודל בשם T3_model_4 לניבוי הסיכוי לשרוד על פי גיל הנוסע\n"
   ]
  },
  {
   "cell_type": "code",
   "execution_count": 67,
   "id": "69790cac-1114-4c7b-9480-0932bdf84412",
   "metadata": {
    "tags": []
   },
   "outputs": [
    {
     "data": {
      "text/html": [
       "<div>\n",
       "<style scoped>\n",
       "    .dataframe tbody tr th:only-of-type {\n",
       "        vertical-align: middle;\n",
       "    }\n",
       "\n",
       "    .dataframe tbody tr th {\n",
       "        vertical-align: top;\n",
       "    }\n",
       "\n",
       "    .dataframe thead th {\n",
       "        text-align: right;\n",
       "    }\n",
       "</style>\n",
       "<table border=\"1\" class=\"dataframe\">\n",
       "  <thead>\n",
       "    <tr style=\"text-align: right;\">\n",
       "      <th></th>\n",
       "      <th>row.names</th>\n",
       "      <th>pclass</th>\n",
       "      <th>survived</th>\n",
       "      <th>name</th>\n",
       "      <th>age</th>\n",
       "      <th>embarked</th>\n",
       "      <th>home.dest</th>\n",
       "      <th>room</th>\n",
       "      <th>ticket</th>\n",
       "      <th>boat</th>\n",
       "      <th>sex</th>\n",
       "    </tr>\n",
       "  </thead>\n",
       "  <tbody>\n",
       "    <tr>\n",
       "      <th>0</th>\n",
       "      <td>1</td>\n",
       "      <td>1st</td>\n",
       "      <td>1</td>\n",
       "      <td>Allen, Miss Elisabeth Walton</td>\n",
       "      <td>29.0000</td>\n",
       "      <td>Southampton</td>\n",
       "      <td>St Louis, MO</td>\n",
       "      <td>B-5</td>\n",
       "      <td>24160 L221</td>\n",
       "      <td>2</td>\n",
       "      <td>female</td>\n",
       "    </tr>\n",
       "    <tr>\n",
       "      <th>1</th>\n",
       "      <td>2</td>\n",
       "      <td>1st</td>\n",
       "      <td>0</td>\n",
       "      <td>Allison, Miss Helen Loraine</td>\n",
       "      <td>2.0000</td>\n",
       "      <td>Southampton</td>\n",
       "      <td>Montreal, PQ / Chesterville, ON</td>\n",
       "      <td>C26</td>\n",
       "      <td>NaN</td>\n",
       "      <td>NaN</td>\n",
       "      <td>female</td>\n",
       "    </tr>\n",
       "    <tr>\n",
       "      <th>2</th>\n",
       "      <td>3</td>\n",
       "      <td>1st</td>\n",
       "      <td>0</td>\n",
       "      <td>Allison, Mr Hudson Joshua Creighton</td>\n",
       "      <td>30.0000</td>\n",
       "      <td>Southampton</td>\n",
       "      <td>Montreal, PQ / Chesterville, ON</td>\n",
       "      <td>C26</td>\n",
       "      <td>NaN</td>\n",
       "      <td>(135)</td>\n",
       "      <td>male</td>\n",
       "    </tr>\n",
       "    <tr>\n",
       "      <th>3</th>\n",
       "      <td>4</td>\n",
       "      <td>1st</td>\n",
       "      <td>0</td>\n",
       "      <td>Allison, Mrs Hudson J.C. (Bessie Waldo Daniels)</td>\n",
       "      <td>25.0000</td>\n",
       "      <td>Southampton</td>\n",
       "      <td>Montreal, PQ / Chesterville, ON</td>\n",
       "      <td>C26</td>\n",
       "      <td>NaN</td>\n",
       "      <td>NaN</td>\n",
       "      <td>female</td>\n",
       "    </tr>\n",
       "    <tr>\n",
       "      <th>4</th>\n",
       "      <td>5</td>\n",
       "      <td>1st</td>\n",
       "      <td>1</td>\n",
       "      <td>Allison, Master Hudson Trevor</td>\n",
       "      <td>0.9167</td>\n",
       "      <td>Southampton</td>\n",
       "      <td>Montreal, PQ / Chesterville, ON</td>\n",
       "      <td>C22</td>\n",
       "      <td>NaN</td>\n",
       "      <td>11</td>\n",
       "      <td>male</td>\n",
       "    </tr>\n",
       "  </tbody>\n",
       "</table>\n",
       "</div>"
      ],
      "text/plain": [
       "   row.names pclass  survived  \\\n",
       "0          1    1st         1   \n",
       "1          2    1st         0   \n",
       "2          3    1st         0   \n",
       "3          4    1st         0   \n",
       "4          5    1st         1   \n",
       "\n",
       "                                              name      age     embarked  \\\n",
       "0                     Allen, Miss Elisabeth Walton  29.0000  Southampton   \n",
       "1                      Allison, Miss Helen Loraine   2.0000  Southampton   \n",
       "2              Allison, Mr Hudson Joshua Creighton  30.0000  Southampton   \n",
       "3  Allison, Mrs Hudson J.C. (Bessie Waldo Daniels)  25.0000  Southampton   \n",
       "4                    Allison, Master Hudson Trevor   0.9167  Southampton   \n",
       "\n",
       "                         home.dest room      ticket   boat     sex  \n",
       "0                     St Louis, MO  B-5  24160 L221      2  female  \n",
       "1  Montreal, PQ / Chesterville, ON  C26         NaN    NaN  female  \n",
       "2  Montreal, PQ / Chesterville, ON  C26         NaN  (135)    male  \n",
       "3  Montreal, PQ / Chesterville, ON  C26         NaN    NaN  female  \n",
       "4  Montreal, PQ / Chesterville, ON  C22         NaN     11    male  "
      ]
     },
     "execution_count": 67,
     "metadata": {},
     "output_type": "execute_result"
    }
   ],
   "source": [
    "titanic_t3 = pd.read_csv('titanic.csv')\n",
    "titanic_t3.head(5)\n",
    "# survived is the predicted variable\n",
    "# survived==1 represents a passenger who survived\n",
    "# survived==0 represents a passenger who drowned"
   ]
  },
  {
   "cell_type": "code",
   "execution_count": 68,
   "id": "ae8d3de2-f5b2-42e3-9279-c18def3ba79c",
   "metadata": {
    "tags": []
   },
   "outputs": [
    {
     "name": "stdout",
     "output_type": "stream",
     "text": [
      "<class 'pandas.core.frame.DataFrame'>\n",
      "RangeIndex: 1313 entries, 0 to 1312\n",
      "Data columns (total 11 columns):\n",
      " #   Column     Non-Null Count  Dtype  \n",
      "---  ------     --------------  -----  \n",
      " 0   row.names  1313 non-null   int64  \n",
      " 1   pclass     1313 non-null   object \n",
      " 2   survived   1313 non-null   int64  \n",
      " 3   name       1313 non-null   object \n",
      " 4   age        633 non-null    float64\n",
      " 5   embarked   821 non-null    object \n",
      " 6   home.dest  754 non-null    object \n",
      " 7   room       77 non-null     object \n",
      " 8   ticket     69 non-null     object \n",
      " 9   boat       347 non-null    object \n",
      " 10  sex        1313 non-null   object \n",
      "dtypes: float64(1), int64(2), object(8)\n",
      "memory usage: 113.0+ KB\n"
     ]
    }
   ],
   "source": [
    "# look at the data\n",
    "titanic_t3.info() "
   ]
  },
  {
   "cell_type": "code",
   "execution_count": 69,
   "id": "f993a797-3b3f-4228-a5c1-bdeed1c1f9e4",
   "metadata": {
    "tags": []
   },
   "outputs": [
    {
     "data": {
      "text/plain": [
       "(1313, 11)"
      ]
     },
     "execution_count": 69,
     "metadata": {},
     "output_type": "execute_result"
    }
   ],
   "source": [
    "# data dimnetions (x vs. y)\n",
    "titanic_t3.shape"
   ]
  },
  {
   "cell_type": "code",
   "execution_count": 73,
   "id": "07a29ba6-98ea-4077-8f9d-9a7f83958c86",
   "metadata": {
    "tags": []
   },
   "outputs": [
    {
     "data": {
      "text/plain": [
       "row.names       0\n",
       "pclass          0\n",
       "survived        0\n",
       "name            0\n",
       "age           680\n",
       "embarked      492\n",
       "home.dest     559\n",
       "room         1236\n",
       "ticket       1244\n",
       "boat          966\n",
       "sex             0\n",
       "dtype: int64"
      ]
     },
     "execution_count": 73,
     "metadata": {},
     "output_type": "execute_result"
    }
   ],
   "source": [
    "# look for NA\n",
    "titanic_t3.isna().sum()\n",
    "\n",
    "## We are going to use age.\n",
    "## Hence, we need to remove the NA from the age column."
   ]
  },
  {
   "cell_type": "markdown",
   "id": "09e85ed7-2df6-48d0-b504-5e6b58769005",
   "metadata": {},
   "source": [
    "# שאלה 1"
   ]
  },
  {
   "cell_type": "code",
   "execution_count": 75,
   "id": "56625d6e-8e36-4662-a84f-3107c19884aa",
   "metadata": {
    "tags": []
   },
   "outputs": [
    {
     "data": {
      "text/plain": [
       "row.names      0\n",
       "pclass         0\n",
       "survived       0\n",
       "name           0\n",
       "age            0\n",
       "embarked       0\n",
       "home.dest     33\n",
       "room         566\n",
       "ticket       570\n",
       "boat         342\n",
       "sex            0\n",
       "dtype: int64"
      ]
     },
     "execution_count": 75,
     "metadata": {},
     "output_type": "execute_result"
    }
   ],
   "source": [
    "titanic_t3 = titanic_t3.dropna(subset=['age'])\n",
    "titanic_t3 = titanic_t3.dropna(subset=['embarked'])\n",
    "titanic_t3['age'] = titanic_t3['age'].astype(int)\n",
    "titanic_t3.isna().sum()"
   ]
  },
  {
   "cell_type": "markdown",
   "id": "a532ddb1-6d69-4f5d-bf76-ccc1fe85846a",
   "metadata": {
    "tags": []
   },
   "source": [
    "# שאלה 2"
   ]
  },
  {
   "cell_type": "code",
   "execution_count": 79,
   "id": "536af681-48a8-4e70-9f4a-95032bcc2648",
   "metadata": {
    "tags": []
   },
   "outputs": [],
   "source": [
    "# Step 1: Adding an intercept column for the logistic regression model\n",
    "titanic_t3['intercept'] = 1"
   ]
  },
  {
   "cell_type": "code",
   "execution_count": 81,
   "id": "9a20567d-c607-4646-9895-457f80ea2127",
   "metadata": {},
   "outputs": [
    {
     "data": {
      "text/html": [
       "<div>\n",
       "<style scoped>\n",
       "    .dataframe tbody tr th:only-of-type {\n",
       "        vertical-align: middle;\n",
       "    }\n",
       "\n",
       "    .dataframe tbody tr th {\n",
       "        vertical-align: top;\n",
       "    }\n",
       "\n",
       "    .dataframe thead th {\n",
       "        text-align: right;\n",
       "    }\n",
       "</style>\n",
       "<table border=\"1\" class=\"dataframe\">\n",
       "  <thead>\n",
       "    <tr style=\"text-align: right;\">\n",
       "      <th></th>\n",
       "      <th>row.names</th>\n",
       "      <th>pclass</th>\n",
       "      <th>survived</th>\n",
       "      <th>name</th>\n",
       "      <th>age</th>\n",
       "      <th>embarked</th>\n",
       "      <th>home.dest</th>\n",
       "      <th>room</th>\n",
       "      <th>ticket</th>\n",
       "      <th>boat</th>\n",
       "      <th>sex</th>\n",
       "      <th>intercept</th>\n",
       "      <th>Cherbourg</th>\n",
       "      <th>Queenstown</th>\n",
       "      <th>Southampton</th>\n",
       "    </tr>\n",
       "  </thead>\n",
       "  <tbody>\n",
       "    <tr>\n",
       "      <th>0</th>\n",
       "      <td>1</td>\n",
       "      <td>1st</td>\n",
       "      <td>1</td>\n",
       "      <td>Allen, Miss Elisabeth Walton</td>\n",
       "      <td>29</td>\n",
       "      <td>Southampton</td>\n",
       "      <td>St Louis, MO</td>\n",
       "      <td>B-5</td>\n",
       "      <td>24160 L221</td>\n",
       "      <td>2</td>\n",
       "      <td>female</td>\n",
       "      <td>1</td>\n",
       "      <td>0</td>\n",
       "      <td>0</td>\n",
       "      <td>1</td>\n",
       "    </tr>\n",
       "    <tr>\n",
       "      <th>1</th>\n",
       "      <td>2</td>\n",
       "      <td>1st</td>\n",
       "      <td>0</td>\n",
       "      <td>Allison, Miss Helen Loraine</td>\n",
       "      <td>2</td>\n",
       "      <td>Southampton</td>\n",
       "      <td>Montreal, PQ / Chesterville, ON</td>\n",
       "      <td>C26</td>\n",
       "      <td>NaN</td>\n",
       "      <td>NaN</td>\n",
       "      <td>female</td>\n",
       "      <td>1</td>\n",
       "      <td>0</td>\n",
       "      <td>0</td>\n",
       "      <td>1</td>\n",
       "    </tr>\n",
       "    <tr>\n",
       "      <th>2</th>\n",
       "      <td>3</td>\n",
       "      <td>1st</td>\n",
       "      <td>0</td>\n",
       "      <td>Allison, Mr Hudson Joshua Creighton</td>\n",
       "      <td>30</td>\n",
       "      <td>Southampton</td>\n",
       "      <td>Montreal, PQ / Chesterville, ON</td>\n",
       "      <td>C26</td>\n",
       "      <td>NaN</td>\n",
       "      <td>(135)</td>\n",
       "      <td>male</td>\n",
       "      <td>1</td>\n",
       "      <td>0</td>\n",
       "      <td>0</td>\n",
       "      <td>1</td>\n",
       "    </tr>\n",
       "    <tr>\n",
       "      <th>3</th>\n",
       "      <td>4</td>\n",
       "      <td>1st</td>\n",
       "      <td>0</td>\n",
       "      <td>Allison, Mrs Hudson J.C. (Bessie Waldo Daniels)</td>\n",
       "      <td>25</td>\n",
       "      <td>Southampton</td>\n",
       "      <td>Montreal, PQ / Chesterville, ON</td>\n",
       "      <td>C26</td>\n",
       "      <td>NaN</td>\n",
       "      <td>NaN</td>\n",
       "      <td>female</td>\n",
       "      <td>1</td>\n",
       "      <td>0</td>\n",
       "      <td>0</td>\n",
       "      <td>1</td>\n",
       "    </tr>\n",
       "    <tr>\n",
       "      <th>4</th>\n",
       "      <td>5</td>\n",
       "      <td>1st</td>\n",
       "      <td>1</td>\n",
       "      <td>Allison, Master Hudson Trevor</td>\n",
       "      <td>0</td>\n",
       "      <td>Southampton</td>\n",
       "      <td>Montreal, PQ / Chesterville, ON</td>\n",
       "      <td>C22</td>\n",
       "      <td>NaN</td>\n",
       "      <td>11</td>\n",
       "      <td>male</td>\n",
       "      <td>1</td>\n",
       "      <td>0</td>\n",
       "      <td>0</td>\n",
       "      <td>1</td>\n",
       "    </tr>\n",
       "  </tbody>\n",
       "</table>\n",
       "</div>"
      ],
      "text/plain": [
       "   row.names pclass  survived  \\\n",
       "0          1    1st         1   \n",
       "1          2    1st         0   \n",
       "2          3    1st         0   \n",
       "3          4    1st         0   \n",
       "4          5    1st         1   \n",
       "\n",
       "                                              name  age     embarked  \\\n",
       "0                     Allen, Miss Elisabeth Walton   29  Southampton   \n",
       "1                      Allison, Miss Helen Loraine    2  Southampton   \n",
       "2              Allison, Mr Hudson Joshua Creighton   30  Southampton   \n",
       "3  Allison, Mrs Hudson J.C. (Bessie Waldo Daniels)   25  Southampton   \n",
       "4                    Allison, Master Hudson Trevor    0  Southampton   \n",
       "\n",
       "                         home.dest room      ticket   boat     sex  intercept  \\\n",
       "0                     St Louis, MO  B-5  24160 L221      2  female          1   \n",
       "1  Montreal, PQ / Chesterville, ON  C26         NaN    NaN  female          1   \n",
       "2  Montreal, PQ / Chesterville, ON  C26         NaN  (135)    male          1   \n",
       "3  Montreal, PQ / Chesterville, ON  C26         NaN    NaN  female          1   \n",
       "4  Montreal, PQ / Chesterville, ON  C22         NaN     11    male          1   \n",
       "\n",
       "   Cherbourg  Queenstown  Southampton  \n",
       "0          0           0            1  \n",
       "1          0           0            1  \n",
       "2          0           0            1  \n",
       "3          0           0            1  \n",
       "4          0           0            1  "
      ]
     },
     "execution_count": 81,
     "metadata": {},
     "output_type": "execute_result"
    }
   ],
   "source": [
    "dummy_variables = pd.get_dummies(titanic_t3['embarked'],dtype=int)\n",
    "titanic_t3 = pd.concat([titanic_t3, dummy_variables], axis=1)\n",
    "titanic_t3.head()"
   ]
  },
  {
   "cell_type": "code",
   "execution_count": 83,
   "id": "a077b690-f783-4798-9f0c-7a2891d2b107",
   "metadata": {
    "tags": []
   },
   "outputs": [],
   "source": [
    "# Step 2: creating x & y\n",
    "x = titanic_t3[['intercept','age', 'Cherbourg', 'Queenstown']]\n",
    "y = titanic_t3['survived']"
   ]
  },
  {
   "cell_type": "code",
   "execution_count": 85,
   "id": "8c26d0bc-c66a-44db-bca6-14f84182b8d4",
   "metadata": {
    "tags": []
   },
   "outputs": [
    {
     "name": "stdout",
     "output_type": "stream",
     "text": [
      "Optimization terminated successfully.\n",
      "         Current function value: 0.663601\n",
      "         Iterations 4\n"
     ]
    },
    {
     "data": {
      "text/html": [
       "<table class=\"simpletable\">\n",
       "<caption>Logit Regression Results</caption>\n",
       "<tr>\n",
       "  <th>Dep. Variable:</th>       <td>survived</td>     <th>  No. Observations:  </th>  <td>   627</td>  \n",
       "</tr>\n",
       "<tr>\n",
       "  <th>Model:</th>                 <td>Logit</td>      <th>  Df Residuals:      </th>  <td>   623</td>  \n",
       "</tr>\n",
       "<tr>\n",
       "  <th>Method:</th>                 <td>MLE</td>       <th>  Df Model:          </th>  <td>     3</td>  \n",
       "</tr>\n",
       "<tr>\n",
       "  <th>Date:</th>            <td>Tue, 27 Feb 2024</td> <th>  Pseudo R-squ.:     </th>  <td>0.03315</td> \n",
       "</tr>\n",
       "<tr>\n",
       "  <th>Time:</th>                <td>21:34:20</td>     <th>  Log-Likelihood:    </th> <td> -416.08</td> \n",
       "</tr>\n",
       "<tr>\n",
       "  <th>converged:</th>             <td>True</td>       <th>  LL-Null:           </th> <td> -430.34</td> \n",
       "</tr>\n",
       "<tr>\n",
       "  <th>Covariance Type:</th>     <td>nonrobust</td>    <th>  LLR p-value:       </th> <td>2.809e-06</td>\n",
       "</tr>\n",
       "</table>\n",
       "<table class=\"simpletable\">\n",
       "<tr>\n",
       "       <td></td>         <th>coef</th>     <th>std err</th>      <th>z</th>      <th>P>|z|</th>  <th>[0.025</th>    <th>0.975]</th>  \n",
       "</tr>\n",
       "<tr>\n",
       "  <th>intercept</th>  <td>    0.1022</td> <td>    0.194</td> <td>    0.527</td> <td> 0.598</td> <td>   -0.278</td> <td>    0.482</td>\n",
       "</tr>\n",
       "<tr>\n",
       "  <th>age</th>        <td>   -0.0176</td> <td>    0.006</td> <td>   -3.034</td> <td> 0.002</td> <td>   -0.029</td> <td>   -0.006</td>\n",
       "</tr>\n",
       "<tr>\n",
       "  <th>Cherbourg</th>  <td>    0.9759</td> <td>    0.208</td> <td>    4.695</td> <td> 0.000</td> <td>    0.569</td> <td>    1.383</td>\n",
       "</tr>\n",
       "<tr>\n",
       "  <th>Queenstown</th> <td>   -0.0566</td> <td>    0.383</td> <td>   -0.148</td> <td> 0.882</td> <td>   -0.806</td> <td>    0.693</td>\n",
       "</tr>\n",
       "</table>"
      ],
      "text/latex": [
       "\\begin{center}\n",
       "\\begin{tabular}{lclc}\n",
       "\\toprule\n",
       "\\textbf{Dep. Variable:}   &     survived     & \\textbf{  No. Observations:  } &      627    \\\\\n",
       "\\textbf{Model:}           &      Logit       & \\textbf{  Df Residuals:      } &      623    \\\\\n",
       "\\textbf{Method:}          &       MLE        & \\textbf{  Df Model:          } &        3    \\\\\n",
       "\\textbf{Date:}            & Tue, 27 Feb 2024 & \\textbf{  Pseudo R-squ.:     } &  0.03315    \\\\\n",
       "\\textbf{Time:}            &     21:34:20     & \\textbf{  Log-Likelihood:    } &   -416.08   \\\\\n",
       "\\textbf{converged:}       &       True       & \\textbf{  LL-Null:           } &   -430.34   \\\\\n",
       "\\textbf{Covariance Type:} &    nonrobust     & \\textbf{  LLR p-value:       } & 2.809e-06   \\\\\n",
       "\\bottomrule\n",
       "\\end{tabular}\n",
       "\\begin{tabular}{lcccccc}\n",
       "                    & \\textbf{coef} & \\textbf{std err} & \\textbf{z} & \\textbf{P$> |$z$|$} & \\textbf{[0.025} & \\textbf{0.975]}  \\\\\n",
       "\\midrule\n",
       "\\textbf{intercept}  &       0.1022  &        0.194     &     0.527  &         0.598        &       -0.278    &        0.482     \\\\\n",
       "\\textbf{age}        &      -0.0176  &        0.006     &    -3.034  &         0.002        &       -0.029    &       -0.006     \\\\\n",
       "\\textbf{Cherbourg}  &       0.9759  &        0.208     &     4.695  &         0.000        &        0.569    &        1.383     \\\\\n",
       "\\textbf{Queenstown} &      -0.0566  &        0.383     &    -0.148  &         0.882        &       -0.806    &        0.693     \\\\\n",
       "\\bottomrule\n",
       "\\end{tabular}\n",
       "%\\caption{Logit Regression Results}\n",
       "\\end{center}"
      ],
      "text/plain": [
       "<class 'statsmodels.iolib.summary.Summary'>\n",
       "\"\"\"\n",
       "                           Logit Regression Results                           \n",
       "==============================================================================\n",
       "Dep. Variable:               survived   No. Observations:                  627\n",
       "Model:                          Logit   Df Residuals:                      623\n",
       "Method:                           MLE   Df Model:                            3\n",
       "Date:                Tue, 27 Feb 2024   Pseudo R-squ.:                 0.03315\n",
       "Time:                        21:34:20   Log-Likelihood:                -416.08\n",
       "converged:                       True   LL-Null:                       -430.34\n",
       "Covariance Type:            nonrobust   LLR p-value:                 2.809e-06\n",
       "==============================================================================\n",
       "                 coef    std err          z      P>|z|      [0.025      0.975]\n",
       "------------------------------------------------------------------------------\n",
       "intercept      0.1022      0.194      0.527      0.598      -0.278       0.482\n",
       "age           -0.0176      0.006     -3.034      0.002      -0.029      -0.006\n",
       "Cherbourg      0.9759      0.208      4.695      0.000       0.569       1.383\n",
       "Queenstown    -0.0566      0.383     -0.148      0.882      -0.806       0.693\n",
       "==============================================================================\n",
       "\"\"\""
      ]
     },
     "execution_count": 85,
     "metadata": {},
     "output_type": "execute_result"
    }
   ],
   "source": [
    "# Step 3: Building the logistic regression model\n",
    "logit_for_model_1 = sm.Logit(y,x)\n",
    "T3_model_1 = logit_for_model_1.fit()\n",
    "T3_model_1.summary()\n"
   ]
  },
  {
   "cell_type": "markdown",
   "id": "b029c8d5-a5fb-41a9-a01f-57407c176247",
   "metadata": {},
   "source": [
    "_____"
   ]
  },
  {
   "cell_type": "markdown",
   "id": "6932befd-4d61-4218-abef-8b349c6b4315",
   "metadata": {},
   "source": [
    "# נוסחת הניבוי"
   ]
  },
  {
   "cell_type": "markdown",
   "id": "f933703c-8e1e-4eaf-9365-7ab12e92662d",
   "metadata": {
    "tags": []
   },
   "source": [
    "$$ p = \\frac{1}{1+e^{-(0.1022 -0.0176*age+ 0.9759*Cherbourg-0.0566*Queenstown)}} $$    "
   ]
  },
  {
   "cell_type": "markdown",
   "id": "cf6713c8-fdc0-417a-9bf3-cc7dfe7537c4",
   "metadata": {},
   "source": [
    "# נוסחת logit:"
   ]
  },
  {
   "cell_type": "markdown",
   "id": "b3bfc0e1-6ba6-4102-9691-3d1b19b9fbf5",
   "metadata": {},
   "source": [
    "$$ Logit(p) = 0.1022  -0.0176*age+ 0.9759*Cherbourg-0.0566*Queenstown$$"
   ]
  },
  {
   "cell_type": "markdown",
   "id": "6c765bc8-057d-435e-8a23-5019d5e35a0d",
   "metadata": {
    "tags": []
   },
   "source": [
    "# שאלה 3"
   ]
  },
  {
   "cell_type": "markdown",
   "id": "b59c52e0-b80c-413e-b5a0-f0ec8f515492",
   "metadata": {},
   "source": [
    "# א"
   ]
  },
  {
   "cell_type": "code",
   "execution_count": 113,
   "id": "70bb7b12-f487-4790-9113-03b2555712d9",
   "metadata": {
    "tags": []
   },
   "outputs": [
    {
     "data": {
      "text/html": [
       "<div>\n",
       "<style scoped>\n",
       "    .dataframe tbody tr th:only-of-type {\n",
       "        vertical-align: middle;\n",
       "    }\n",
       "\n",
       "    .dataframe tbody tr th {\n",
       "        vertical-align: top;\n",
       "    }\n",
       "\n",
       "    .dataframe thead th {\n",
       "        text-align: right;\n",
       "    }\n",
       "</style>\n",
       "<table border=\"1\" class=\"dataframe\">\n",
       "  <thead>\n",
       "    <tr style=\"text-align: right;\">\n",
       "      <th></th>\n",
       "      <th>intercept</th>\n",
       "      <th>age</th>\n",
       "      <th>Cherbourg</th>\n",
       "      <th>Queenstown</th>\n",
       "    </tr>\n",
       "  </thead>\n",
       "  <tbody>\n",
       "    <tr>\n",
       "      <th>0</th>\n",
       "      <td>1.0</td>\n",
       "      <td>30.0</td>\n",
       "      <td>1.0</td>\n",
       "      <td>0.0</td>\n",
       "    </tr>\n",
       "  </tbody>\n",
       "</table>\n",
       "</div>"
      ],
      "text/plain": [
       "   intercept   age  Cherbourg  Queenstown\n",
       "0        1.0  30.0        1.0         0.0"
      ]
     },
     "execution_count": 113,
     "metadata": {},
     "output_type": "execute_result"
    }
   ],
   "source": [
    "pred_df = pd.DataFrame([])\n",
    "pred_df.loc[0,'intercept'] = 1\n",
    "pred_df.loc[0,'age'] = 30\n",
    "pred_df.loc[0,'Cherbourg'] = 1\n",
    "pred_df.loc[0,'Queenstown'] = 0\n",
    "pred_df"
   ]
  },
  {
   "cell_type": "code",
   "execution_count": 119,
   "id": "3beff0ac-e160-4a00-996a-f407138e6d86",
   "metadata": {},
   "outputs": [
    {
     "data": {
      "text/plain": [
       "0.3657849516105772"
      ]
     },
     "execution_count": 119,
     "metadata": {},
     "output_type": "execute_result"
    }
   ],
   "source": [
    "Cherbourg30 = T3_model_1.predict(pred_df[['intercept','age', 'Cherbourg','Queenstown']]).item()\n",
    "1-Cherbourg30"
   ]
  },
  {
   "cell_type": "markdown",
   "id": "910099a7-fb42-4f9d-bcfa-1e3ebbc159c6",
   "metadata": {},
   "source": [
    "# ב"
   ]
  },
  {
   "cell_type": "code",
   "execution_count": 123,
   "id": "7fdd547d-c10d-4691-a855-117d039986f7",
   "metadata": {},
   "outputs": [
    {
     "data": {
      "text/plain": [
       "0.3658412085360969"
      ]
     },
     "execution_count": 123,
     "metadata": {},
     "output_type": "execute_result"
    }
   ],
   "source": [
    "p = 1 / (1 + np.exp(-(0.1022 - 0.0176 * 30 + 0.9759 * 1 - 0.0566 * 0)))\n",
    "1-p"
   ]
  },
  {
   "cell_type": "markdown",
   "id": "750e7c82-df3e-4f6d-bc6c-4a859722d547",
   "metadata": {},
   "source": [
    "___________________"
   ]
  },
  {
   "cell_type": "markdown",
   "id": "96ddc47e-ae10-4d1c-a11b-101411031964",
   "metadata": {
    "tags": []
   },
   "source": [
    "# שאלה 4"
   ]
  },
  {
   "cell_type": "code",
   "execution_count": 130,
   "id": "d6dd67da-5e9a-4b2d-b804-5b2ea2736754",
   "metadata": {
    "tags": []
   },
   "outputs": [
    {
     "name": "stdout",
     "output_type": "stream",
     "text": [
      "Optimization terminated successfully.\n",
      "         Current function value: 0.682253\n",
      "         Iterations 4\n",
      "                           Logit Regression Results                           \n",
      "==============================================================================\n",
      "Dep. Variable:               survived   No. Observations:                  627\n",
      "Model:                          Logit   Df Residuals:                      625\n",
      "Method:                           MLE   Df Model:                            1\n",
      "Date:                Tue, 27 Feb 2024   Pseudo R-squ.:                0.005976\n",
      "Time:                        21:49:14   Log-Likelihood:                -427.77\n",
      "converged:                       True   LL-Null:                       -430.34\n",
      "Covariance Type:            nonrobust   LLR p-value:                   0.02334\n",
      "==============================================================================\n",
      "                 coef    std err          z      P>|z|      [0.025      0.975]\n",
      "------------------------------------------------------------------------------\n",
      "intercept      0.1524      0.189      0.808      0.419      -0.217       0.522\n",
      "age           -0.0125      0.006     -2.252      0.024      -0.023      -0.002\n",
      "==============================================================================\n"
     ]
    }
   ],
   "source": [
    "model_Q4 = sm.Logit(titanic_t3['survived'], titanic_t3[['intercept','age']])\n",
    "result_logistic2 = model_Q4.fit()\n",
    "result_logistic = T3_model_1\n",
    "print(result_logistic2.summary())"
   ]
  },
  {
   "cell_type": "code",
   "execution_count": 132,
   "id": "7dfdf5f8-7b38-482f-8d8b-fbe5780fad38",
   "metadata": {
    "tags": []
   },
   "outputs": [
    {
     "name": "stdout",
     "output_type": "stream",
     "text": [
      "Model Q2:\n",
      "Log likelihood: -416.0780813294598\n",
      "AIC: 840.1561626589196\n",
      "Model Q4:\n",
      "Log likelihood: -427.7723377750723\n",
      "AIC: 859.5446755501446\n"
     ]
    }
   ],
   "source": [
    "print(\"Model Q2:\")\n",
    "print(\"Log likelihood:\", result_logistic.llf)\n",
    "print(\"AIC:\", result_logistic.aic)\n",
    "\n",
    "print(\"Model Q4:\")\n",
    "print(\"Log likelihood:\", result_logistic2.llf)\n",
    "print(\"AIC:\", result_logistic2.aic)\n"
   ]
  },
  {
   "cell_type": "markdown",
   "id": "4aa915b1-488e-42b0-ae8a-23138d55da2c",
   "metadata": {},
   "source": [
    "# שאלה 5"
   ]
  },
  {
   "cell_type": "code",
   "execution_count": null,
   "id": "c22189e2-3f31-459e-82dc-f10c470e1ae0",
   "metadata": {
    "tags": []
   },
   "outputs": [],
   "source": []
  },
  {
   "cell_type": "code",
   "execution_count": null,
   "id": "d0076eb3-65c1-4428-8ba4-0392c6d97f41",
   "metadata": {
    "tags": []
   },
   "outputs": [],
   "source": []
  },
  {
   "cell_type": "markdown",
   "id": "2d90a48d-0bbb-4496-bca9-438beeecd9f5",
   "metadata": {},
   "source": [
    "_______________________"
   ]
  },
  {
   "cell_type": "markdown",
   "id": "1d2e8125-ec6f-46af-820c-8d63bc71aefb",
   "metadata": {},
   "source": [
    "# שאלה 6"
   ]
  },
  {
   "cell_type": "markdown",
   "id": "b0cfd954-50a3-49c9-b0b4-3bfb427e4521",
   "metadata": {},
   "source": [
    "### סעיף ד הוא הנכון"
   ]
  }
 ],
 "metadata": {
  "kernelspec": {
   "display_name": "anaconda-panel-2023.05-py310",
   "language": "python",
   "name": "conda-env-anaconda-panel-2023.05-py310-py"
  },
  "language_info": {
   "codemirror_mode": {
    "name": "ipython",
    "version": 3
   },
   "file_extension": ".py",
   "mimetype": "text/x-python",
   "name": "python",
   "nbconvert_exporter": "python",
   "pygments_lexer": "ipython3",
   "version": "3.11.5"
  }
 },
 "nbformat": 4,
 "nbformat_minor": 5
}
